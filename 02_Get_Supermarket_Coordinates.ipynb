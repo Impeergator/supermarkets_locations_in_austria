{
 "cells": [
  {
   "cell_type": "code",
   "execution_count": 10,
   "id": "06e484e0",
   "metadata": {},
   "outputs": [],
   "source": [
    "### Get coordinates of the stores from adresses\n",
    "import os"
   ]
  },
  {
   "cell_type": "code",
   "execution_count": 11,
   "id": "71669690",
   "metadata": {},
   "outputs": [],
   "source": [
    "# Read all addresses of the supermarkets into a list\n",
    "\n",
    "# Define the folder containing the .txt files\n",
    "folder_path = \"data/Supermarkt Adressen\"\n",
    "\n",
    "# Initialize an empty list to store the lines from all files\n",
    "all_addresses = []\n",
    "\n",
    "# Loop through all files in the folder\n",
    "for filename in os.listdir(folder_path):\n",
    "    # Check if the file is a .txt file\n",
    "    if filename.endswith(\".txt\"):\n",
    "        # Construct the full path to the file\n",
    "        file_path = os.path.join(folder_path, filename)\n",
    "        \n",
    "        # Open the file and read its lines\n",
    "        with open(file_path, \"r\", encoding=\"utf-8\") as file:\n",
    "            file_lines = [line.strip() for line in file.readlines()]\n",
    "        \n",
    "        # Extend the 'lines' list with the lines from the current file\n",
    "        all_addresses.extend(file_lines)\n",
    "\n",
    "with open ('all_addresses.txt', 'w', encoding = 'utf8') as f:\n",
    "    for ad in all_addresses:\n",
    "        f.write(ad)\n",
    "        f.write(\"\\n\")"
   ]
  },
  {
   "cell_type": "code",
   "execution_count": 12,
   "id": "d933dbb1",
   "metadata": {},
   "outputs": [],
   "source": [
    "import googlemaps\n",
    "API_KEY = 'YOUR_API_KEY'\n",
    "gmaps = googlemaps.Client(key=API_KEY)"
   ]
  },
  {
   "cell_type": "code",
   "execution_count": 13,
   "id": "9b435c52",
   "metadata": {},
   "outputs": [],
   "source": [
    "from geopy.geocoders import Nominatim\n",
    "\n",
    "def get_coordinates(address):\n",
    "    geolocator = Nominatim(user_agent=\"my_geocoder\")\n",
    "    location = geolocator.geocode(address)\n",
    "\n",
    "    if location:\n",
    "        latitude = location.latitude\n",
    "        longitude = location.longitude\n",
    "        return latitude, longitude\n",
    "    else:\n",
    "        #print(\"Geocoding failed.\")\n",
    "        return None\n",
    "    "
   ]
  },
  {
   "cell_type": "code",
   "execution_count": 14,
   "id": "90257b09",
   "metadata": {},
   "outputs": [
    {
     "name": "stdout",
     "output_type": "stream",
     "text": [
      "ackerbox.txt\n",
      "Number of failed geocoding 1\n",
      "adeg.txt\n",
      "Number of failed geocoding 9\n",
      "billa.txt\n",
      "Number of failed geocoding 7\n",
      "denns.txt\n",
      "Number of failed geocoding 0\n",
      "etsan.txt\n",
      "Number of failed geocoding 0\n",
      "hofer.txt\n",
      "Number of failed geocoding 1\n",
      "lidl.txt\n",
      "Number of failed geocoding 0\n",
      "maximarkt.txt\n",
      "Number of failed geocoding 0\n",
      "metro.txt\n",
      "Number of failed geocoding 0\n",
      "mixmarkt.txt\n",
      "Number of failed geocoding 0\n",
      "mpreis.txt\n",
      "Number of failed geocoding 4\n",
      "norma.txt\n",
      "Number of failed geocoding 0\n",
      "penny.txt\n",
      "Number of failed geocoding 2\n",
      "spar.txt\n",
      "Number of failed geocoding 17\n",
      "sutterlüty.txt\n",
      "Number of failed geocoding 1\n",
      "transgourmet.txt\n",
      "Number of failed geocoding 0\n",
      "unibox.txt\n",
      "Number of failed geocoding 0\n",
      "unimarkt.txt\n",
      "Number of failed geocoding 1\n"
     ]
    }
   ],
   "source": [
    "supermarket_coordinates = []\n",
    "failed_all = []\n",
    "\n",
    "folder_path = \"data/Supermarkt Adressen/\"\n",
    "\n",
    "for file in os.listdir(folder_path):\n",
    "    print(file)\n",
    "    addresses = []\n",
    "    \n",
    "    file_path = folder_path + file\n",
    "    \n",
    "    with open(file_path, \"r\", encoding=\"utf-8\") as file:\n",
    "            file_lines = [line.strip() for line in file.readlines()]\n",
    "            \n",
    "    addresses.extend(file_lines)\n",
    "    \n",
    "    failed = []\n",
    "\n",
    "    for ad in addresses:\n",
    "\n",
    "        geocode_result = gmaps.geocode(ad)\n",
    "        if geocode_result:\n",
    "            supermarket_coordinates.append((geocode_result[0]['geometry']['location']['lat'], \n",
    "                                            geocode_result[0]['geometry']['location']['lng']))\n",
    "        else:\n",
    "            failed_all.append(ad)\n",
    "            failed.append(ad)\n",
    "            supermarket_coordinates.append('FAILED')\n",
    "\n",
    "    print('Number of failed geocoding', len(failed))\n",
    "    \n",
    "    "
   ]
  },
  {
   "cell_type": "code",
   "execution_count": 17,
   "id": "9028abe3",
   "metadata": {},
   "outputs": [
    {
     "data": {
      "text/plain": [
       "43"
      ]
     },
     "execution_count": 17,
     "metadata": {},
     "output_type": "execute_result"
    }
   ],
   "source": [
    "len(failed_all)"
   ]
  },
  {
   "cell_type": "code",
   "execution_count": 26,
   "id": "223a317e",
   "metadata": {},
   "outputs": [],
   "source": [
    "failed_indices = [index for index, item in enumerate(supermarket_coordinates) if isinstance(item, str)]"
   ]
  },
  {
   "cell_type": "code",
   "execution_count": 27,
   "id": "c631ff7a",
   "metadata": {},
   "outputs": [
    {
     "name": "stdout",
     "output_type": "stream",
     "text": [
      "Number of failed geocoding 6\n",
      "['4432 Rubring, Kraftwerkstraße 1', '4222 St. Georgen/Gus, B 3, Mauthauserstr. 80', '8242 St. Lorenzen A. W., Nr. 54', '8503 St. Josef, Nr. 73', '5600 St. Johann I. Pg., Industriestraße 3', '6404 Polling, Nr. 201']\n"
     ]
    }
   ],
   "source": [
    "# Trying to Geocode the failed addresses with Nominatim\n",
    "from geopy.geocoders import Nominatim\n",
    "\n",
    "def get_coordinates(address):\n",
    "    geolocator = Nominatim(user_agent=\"my_geocoder\")\n",
    "    location = geolocator.geocode(address)\n",
    "\n",
    "    if location:\n",
    "        latitude = location.latitude\n",
    "        longitude = location.longitude\n",
    "        return latitude, longitude\n",
    "    else:\n",
    "        #print(\"Geocoding failed.\")\n",
    "        return None\n",
    "    \n",
    "\n",
    "still_failed = []\n",
    "i = 0\n",
    "for ad in failed_all:\n",
    "    coordinates = get_coordinates(ad)\n",
    "    failed_ind = failed_indices[i]\n",
    "    if coordinates:\n",
    "        supermarket_coordinates[failed_ind] = (coordinates[0], coordinates[1])\n",
    "    else:\n",
    "        still_failed.append(ad)\n",
    "    i += 1\n",
    "        \n",
    "print('Number of failed geocoding', len(still_failed))\n",
    "print(still_failed)"
   ]
  },
  {
   "cell_type": "code",
   "execution_count": 31,
   "id": "4d0bb789",
   "metadata": {},
   "outputs": [],
   "source": [
    "still_failed_indices = [index for index, item in enumerate(supermarket_coordinates) if isinstance(item, str)]"
   ]
  },
  {
   "cell_type": "code",
   "execution_count": 33,
   "id": "7a28bcba",
   "metadata": {},
   "outputs": [],
   "source": [
    "### For the failed geocoding, we manually retrieve the coordinates from google maps\n",
    "\n",
    "supermarket_coordinates[still_failed_indices[0]] = (48.130392786085515, 14.48411594324139)\n",
    "supermarket_coordinates[still_failed_indices[1]] = (48.2637937080893, 14.454221387621754)\n",
    "supermarket_coordinates[still_failed_indices[2]] = (47.44228065947896, 15.95341808659849)\n",
    "supermarket_coordinates[still_failed_indices[3]] = (46.91070389060156, 15.337453420507574)\n",
    "supermarket_coordinates[still_failed_indices[4]] = (47.35110489380213, 13.196193389532453)\n",
    "supermarket_coordinates[still_failed_indices[5]] = (47.28196442884858, 11.149935340553847)\n"
   ]
  },
  {
   "cell_type": "code",
   "execution_count": 35,
   "id": "691b8056",
   "metadata": {},
   "outputs": [],
   "source": [
    "with open ('coordinates_allsupermarkets.txt', 'w', encoding = 'utf8') as f:\n",
    "    for sm in supermarket_coordinates:\n",
    "        f.write(str(sm))\n",
    "        f.write(\"\\n\")"
   ]
  }
 ],
 "metadata": {
  "kernelspec": {
   "display_name": "Python 3 (ipykernel)",
   "language": "python",
   "name": "python3"
  },
  "language_info": {
   "codemirror_mode": {
    "name": "ipython",
    "version": 3
   },
   "file_extension": ".py",
   "mimetype": "text/x-python",
   "name": "python",
   "nbconvert_exporter": "python",
   "pygments_lexer": "ipython3",
   "version": "3.9.18"
  }
 },
 "nbformat": 4,
 "nbformat_minor": 5
}
